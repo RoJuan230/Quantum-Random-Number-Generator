{
 "cells": [
  {
   "cell_type": "markdown",
   "metadata": {},
   "source": [
    "#### imports"
   ]
  },
  {
   "cell_type": "code",
   "execution_count": 6,
   "metadata": {},
   "outputs": [],
   "source": [
    "from qiskit import QuantumCircuit, assemble, Aer, execute\r\n",
    "from qiskit.providers.ibmq import least_busy\r\n",
    "from qiskit.tools import job_monitor\r\n",
    "from qiskit_textbook.tools import array_to_latex\r\n",
    "from qiskit.visualization import plot_histogram, plot_bloch_multivector\r\n",
    "from math import sqrt, pi"
   ]
  },
  {
   "cell_type": "markdown",
   "metadata": {},
   "source": [
    "#### find out how many qubits are needed"
   ]
  },
  {
   "cell_type": "code",
   "execution_count": 7,
   "metadata": {},
   "outputs": [],
   "source": [
    "# Ask for range (0 - x).\r\n",
    "max_num = int(input('Choose x for a max range of  (0 - x)'))\r\n",
    "\r\n",
    "# Find out how many qubits are needed based on range.\r\n",
    "qubit_vals = [1]\r\n",
    "\r\n",
    "while sum(qubit_vals) < max_num:\r\n",
    "    qubit_vals.append(qubit_vals[-1] * 2)\r\n",
    "\r\n",
    "if sum(qubit_vals) > max_num:\r\n",
    "    qubit_vals.pop()\r\n",
    "\r\n",
    "n_qubits = len(qubit_vals)"
   ]
  },
  {
   "cell_type": "markdown",
   "metadata": {},
   "source": [
    "#### create quantum circuit"
   ]
  },
  {
   "cell_type": "code",
   "execution_count": 8,
   "metadata": {},
   "outputs": [
    {
     "data": {
      "image/png": "[encoded data removed]",
      "text/plain": "<Figure size 417.879x325.08 with 1 Axes>"
     },
     "execution_count": 8,
     "metadata": {},
     "output_type": "execute_result"
    }
   ],
   "source": [
    "qc = QuantumCircuit(n_qubits, n_qubits)\r\n",
    "\r\n",
    "for i in range(n_qubits):\r\n",
    "    qc.h(i)\r\n",
    "\r\n",
    "qc.measure_all()\r\n",
    "\r\n",
    "qobj = assemble(qc)\r\n",
    "\r\n",
    "qc.draw(output='mpl')"
   ]
  },
  {
   "cell_type": "markdown",
   "metadata": {},
   "source": [
    "#### run on simulator"
   ]
  },
  {
   "cell_type": "code",
   "execution_count": 9,
   "metadata": {},
   "outputs": [
    {
     "data": {
      "text/latex": "$\\displaystyle \n\\begin{bmatrix}\n0 \\\\\n1 \\\\\n0 \\\\\n0 \\\\\n0 \\\\\n0 \\\\\n0 \\\\\n0\n\\end{bmatrix}\n$",
      "text/plain": "<IPython.core.display.Math object>"
     },
     "metadata": {},
     "output_type": "display_data"
    }
   ],
   "source": [
    "simulator = Aer.get_backend('statevector_simulator')\r\n",
    "\r\n",
    "state = simulator.run(qobj).result().get_statevector()\r\n",
    "\r\n",
    "array_to_latex(state, 'Number in bits = ')\r\n"
   ]
  }
 ],
 "metadata": {
  "kernelspec": {
   "display_name": "Python 3.8.8 64-bit ('base': conda)",
   "name": "python388jvsc74a57bd0b3484043eee5ff5607422914000474778a896e23428dfc35313a8be46de07a70"
  },
  "language_info": {
   "codemirror_mode": {
    "name": "ipython",
    "version": 3
   },
   "file_extension": ".py",
   "mimetype": "text/x-python",
   "name": "python",
   "nbconvert_exporter": "python",
   "pygments_lexer": "ipython3",
   "version": "3.8.8"
  },
  "orig_nbformat": 2
 },
 "nbformat": 4,
 "nbformat_minor": 2
}