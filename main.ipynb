{
 "cells": [
  {
   "cell_type": "markdown",
   "metadata": {},
   "source": [
    "#### imports"
   ]
  },
  {
   "cell_type": "code",
   "execution_count": 13,
   "metadata": {},
   "outputs": [],
   "source": [
    "# Import qiskit modules.\r\n",
    "from qiskit import QuantumCircuit, assemble, Aer, execute, IBMQ\r\n",
    "from qiskit.tools import job_monitor\r\n",
    "from qiskit.providers.ibmq import least_busy\r\n",
    "from qiskit.visualization import plot_bloch_multivector\r\n",
    "from qiskit_textbook.tools import array_to_latex\r\n",
    "\r\n",
    "# Import other modules.\r\n",
    "import numpy as np\r\n",
    "from plyer import notification\r\n",
    "from time import time"
   ]
  },
  {
   "cell_type": "markdown",
   "metadata": {},
   "source": [
    "#### create quantum circuit"
   ]
  },
  {
   "cell_type": "code",
   "execution_count": 14,
   "metadata": {},
   "outputs": [
    {
     "data": {
      "image/png": "[encoded data removed]",
      "text/plain": [
       "<Figure size 447.797x385.28 with 1 Axes>"
      ]
     },
     "execution_count": 14,
     "metadata": {},
     "output_type": "execute_result"
    }
   ],
   "source": [
    "# Get # of qubits for quantum circuit and range of random num\r\n",
    "def init_gen():\r\n",
    "    n_qubits = int(input('Choose # of qubits (limit: 5) -> '))\r\n",
    "    _min = int(input('Choose min'))\r\n",
    "    _max = int(input('Choose max'))\r\n",
    "\r\n",
    "    if n_qubits > 6:\r\n",
    "        init_gen()\r\n",
    "    else:\r\n",
    "        return n_qubits, _min, _max\r\n",
    "\r\n",
    "\r\n",
    "n_qubits, _min, _max = init_gen()\r\n",
    "\r\n",
    "qc = QuantumCircuit(n_qubits, n_qubits)\r\n",
    "\r\n",
    "for i in range(n_qubits):\r\n",
    "    qc.h(i)\r\n",
    "\r\n",
    "qc.measure(range(n_qubits), range(n_qubits))\r\n",
    "\r\n",
    "qobj = assemble(qc)\r\n",
    "\r\n",
    "qc.draw(output='mpl')"
   ]
  },
  {
   "cell_type": "markdown",
   "metadata": {},
   "source": [
    "#### run circuit on quantum computer"
   ]
  },
  {
   "cell_type": "code",
   "execution_count": 15,
   "metadata": {},
   "outputs": [
    {
     "name": "stderr",
     "output_type": "stream",
     "text": [
      "ibmqfactory.load_account:WARNING:2021-06-06 21:46:36,730: Credentials are already in use. The existing account in the session will be replaced.\n"
     ]
    },
    {
     "name": "stdout",
     "output_type": "stream",
     "text": [
      "Running on ibmq_athens\n",
      "Job Status: job has successfully run\n",
      "state -> 11111\n",
      "elapsed -> 0.40 min.\n"
     ]
    }
   ],
   "source": [
    "IBMQ.load_account()\r\n",
    "\r\n",
    "provider = IBMQ.get_provider('ibm-q')\r\n",
    "\r\n",
    "start_time = time()\r\n",
    "\r\n",
    "# Get least busy computer.\r\n",
    "qcomp = provider.get_backend('ibmq_athens')\r\n",
    "print('Running on', qcomp)\r\n",
    "\r\n",
    "# NOTE: To choose the best backend, check: https://quantum-computing.ibm.com/services?systems=yours\r\n",
    "\r\n",
    "# Run circuit.  \r\n",
    "job = execute(qc, backend=qcomp, memory=True)\r\n",
    "job_monitor(job)\r\n",
    "\r\n",
    "result = job.result()\r\n",
    "\r\n",
    "state = result.get_memory(qc)[0]\r\n",
    "elapsed = (time() - start_time)/60\r\n",
    "\r\n",
    "print('state ->', state)\r\n",
    "print(f'elapsed -> {elapsed:.2f} min.')\r\n",
    "\r\n",
    "statevectors = [\r\n",
    "    [1, 0],\r\n",
    "    [0, 1]\r\n",
    "]\r\n",
    "\r\n",
    "for i, qubit_state in enumerate(state):\r\n",
    "    qc.initialize(statevectors[int(qubit_state)], i)\r\n",
    "\r\n",
    "qc.draw()\r\n",
    "\r\n",
    "qobj = assemble(qc)\r\n",
    "\r\n",
    "# # NOTE: The reason why we re-initialize the state as the result of the simulation\r\n",
    "# #       is so that we can represent that state on a bloch sphere.\r\n",
    "\r\n",
    "simulator = Aer.get_backend('statevector_simulator')\r\n",
    "\r\n",
    "job = simulator.run(qobj)\r\n",
    "statevector = job.result().get_statevector(qc)\r\n",
    "\r\n",
    "plot_bloch_multivector(statevector)\r\n",
    "\r\n",
    "\r\n",
    "notification.notify(\r\n",
    "    title='Quantum Circuit Sim Results',\r\n",
    "    message=f'elapsed -> {elapsed:.2f} min.\\nstate -> {state}',\r\n",
    "    app_icon='qiskit_icon.ico'\r\n",
    ")"
   ]
  },
  {
   "cell_type": "markdown",
   "metadata": {},
   "source": [
    "#### convert statevector to random number"
   ]
  },
  {
   "cell_type": "code",
   "execution_count": 16,
   "metadata": {},
   "outputs": [
    {
     "name": "stdout",
     "output_type": "stream",
     "text": [
      "0.9024390243902439\n"
     ]
    }
   ],
   "source": [
    "# Produce random number based on the results from experiment.\r\n",
    "def real_map(value, left_min, left_max, right_min, right_max):\r\n",
    "    # Figure out how 'wide' each range is.\r\n",
    "    left_span = left_max - left_min\r\n",
    "    right_span = right_max - right_min\r\n",
    "\r\n",
    "    # Convert the left range into a 0-1 range (float) NOTE: This is the equation that finalizes the num.\r\n",
    "    value_scaled = float(value - left_min) / float(left_span)\r\n",
    "\r\n",
    "    # Convert the 0-1 range into a value in the right range.\r\n",
    "    return right_min + (value_scaled * right_span)\r\n",
    "\r\n",
    "n1, n2, n3 = (0, 0, 0)\r\n",
    "for i in range(statevector.size):\r\n",
    "    if abs(statevector[i]) != 0:\r\n",
    "        n1 = i\r\n",
    "        n2 = np.real(statevector[i])\r\n",
    "        n3 = np.imag(statevector[i])\r\n",
    "\r\n",
    "print(\r\n",
    "    real_map(\r\n",
    "        n1 + n2+ n3,\r\n",
    "        -n_qubits,\r\n",
    "        len(statevector) - 1 + n_qubits,\r\n",
    "        _min,\r\n",
    "        _max\r\n",
    "    )\r\n",
    ")\r\n"
   ]
  }
 ],
 "metadata": {
  "interpreter": {
   "hash": "b3484043eee5ff5607422914000474778a896e23428dfc35313a8be46de07a70"
  },
  "kernelspec": {
   "display_name": "Python 3.8.10 64-bit ('base': conda)",
   "name": "python3"
  },
  "language_info": {
   "codemirror_mode": {
    "name": "ipython",
    "version": 3
   },
   "file_extension": ".py",
   "mimetype": "text/x-python",
   "name": "python",
   "nbconvert_exporter": "python",
   "pygments_lexer": "ipython3",
   "version": "3.8.10"
  },
  "orig_nbformat": 2
 },
 "nbformat": 4,
 "nbformat_minor": 2
}