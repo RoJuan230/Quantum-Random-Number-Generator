{
 "cells": [
  {
   "cell_type": "markdown",
   "metadata": {},
   "source": [
    "#### imports"
   ]
  },
  {
   "cell_type": "code",
   "execution_count": 74,
   "metadata": {},
   "outputs": [],
   "source": [
    "from qiskit import QuantumCircuit, assemble, Aer, execute\r\n",
    "from qiskit_textbook.tools import array_to_latex\r\n",
    "from qiskit.visualization import plot_histogram, plot_bloch_multivector\r\n",
    "from math import sqrt, pi"
   ]
  },
  {
   "cell_type": "markdown",
   "metadata": {},
   "source": [
    "#### find out how many qubits are needed"
   ]
  },
  {
   "cell_type": "code",
   "execution_count": 75,
   "metadata": {},
   "outputs": [],
   "source": [
    "# Ask for range (0 - x).\r\n",
    "max_num = int(input('Choose x for a max range of  (0 - x)'))\r\n",
    "\r\n",
    "# Find out how many qubits are needed based on range.\r\n",
    "qubit_vals = [1]\r\n",
    "\r\n",
    "while sum(qubit_vals) < max_num:\r\n",
    "    qubit_vals.append(qubit_vals[-1] * 2)\r\n",
    "\r\n",
    "if sum(qubit_vals) > max_num:\r\n",
    "    qubit_vals.pop()\r\n",
    "\r\n",
    "n_qubits = len(qubit_vals)"
   ]
  },
  {
   "cell_type": "markdown",
   "metadata": {},
   "source": [
    "#### create quantum circuit"
   ]
  },
  {
   "cell_type": "code",
   "execution_count": 76,
   "metadata": {},
   "outputs": [
    {
     "data": {
      "image/png": "[encoded data removed]",
      "text/plain": "<Figure size 507.997x445.48 with 1 Axes>"
     },
     "execution_count": 76,
     "metadata": {},
     "output_type": "execute_result"
    }
   ],
   "source": [
    "qc = QuantumCircuit(n_qubits, n_qubits)\r\n",
    "\r\n",
    "for i in range(n_qubits):\r\n",
    "    qc.h(i)\r\n",
    "\r\n",
    "qc.measure(range(n_qubits), range(n_qubits))\r\n",
    "\r\n",
    "qobj = assemble(qc)\r\n",
    "\r\n",
    "qc.draw(output='mpl')"
   ]
  },
  {
   "cell_type": "markdown",
   "metadata": {},
   "source": [
    "#### run on simulator"
   ]
  },
  {
   "cell_type": "code",
   "execution_count": 77,
   "metadata": {},
   "outputs": [
    {
     "name": "stdout",
     "output_type": "stream",
     "text": [
      "statevector -> 111011\n"
     ]
    }
   ],
   "source": [
    "simulator = Aer.get_backend('qasm_simulator')\r\n",
    "\r\n",
    "result = execute(qc, simulator, shots=1, memory=True).result()\r\n",
    "state = result.get_memory(qc)[0]\r\n",
    "\r\n",
    "print('statevector ->', state)"
   ]
  },
  {
   "cell_type": "markdown",
   "metadata": {},
   "source": [
    "#### show number produced."
   ]
  },
  {
   "cell_type": "code",
   "execution_count": 78,
   "metadata": {},
   "outputs": [
    {
     "name": "stdout",
     "output_type": "stream",
     "text": [
      "59\n"
     ]
    }
   ],
   "source": [
    "state_reversed = state[::-1]\r\n",
    "num = 0\r\n",
    "\r\n",
    "for i_1, i_2 in zip(state_reversed, qubit_vals):\r\n",
    "    if int(i_1) == 1:\r\n",
    "        num += i_2\r\n",
    "\r\n",
    "print(num)"
   ]
  }
 ],
 "metadata": {
  "kernelspec": {
   "display_name": "Python 3.8.8 64-bit ('base': conda)",
   "name": "python388jvsc74a57bd0b3484043eee5ff5607422914000474778a896e23428dfc35313a8be46de07a70"
  },
  "language_info": {
   "codemirror_mode": {
    "name": "ipython",
    "version": 3
   },
   "file_extension": ".py",
   "mimetype": "text/x-python",
   "name": "python",
   "nbconvert_exporter": "python",
   "pygments_lexer": "ipython3",
   "version": "3.8.8"
  },
  "orig_nbformat": 2
 },
 "nbformat": 4,
 "nbformat_minor": 2
}