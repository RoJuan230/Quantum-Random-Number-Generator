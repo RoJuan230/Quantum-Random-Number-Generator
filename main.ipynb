{
 "cells": [
  {
   "cell_type": "markdown",
   "metadata": {},
   "source": [
    "#### imports"
   ]
  },
  {
   "cell_type": "code",
   "execution_count": 25,
   "metadata": {},
   "outputs": [],
   "source": [
    "from qiskit import QuantumCircuit, assemble, Aer, execute\r\n",
    "from qiskit_textbook.tools import array_to_latex\r\n",
    "from qiskit.visualization import plot_histogram, plot_bloch_multivector\r\n",
    "from math import sqrt, pi"
   ]
  },
  {
   "cell_type": "markdown",
   "metadata": {},
   "source": [
    "#### create quantum circuit"
   ]
  },
  {
   "cell_type": "code",
   "execution_count": 26,
   "metadata": {},
   "outputs": [
    {
     "data": {
      "image/png": "[encoded data removed]",
      "text/plain": "<Figure size 447.797x385.28 with 1 Axes>"
     },
     "execution_count": 26,
     "metadata": {},
     "output_type": "execute_result"
    }
   ],
   "source": [
    "# Get # of qubits for quantum circuit\r\n",
    "def get_qubits():\r\n",
    "    n = int(input('Chose how many qubits to include in the quantum circuit (limit: 5) -> '))\r\n",
    "    \r\n",
    "    if n > 6:\r\n",
    "        get_qubits()\r\n",
    "    else:\r\n",
    "        return n\r\n",
    "\r\n",
    "\r\n",
    "n_qubits = get_qubits()\r\n",
    "\r\n",
    "qc = QuantumCircuit(n_qubits, n_qubits)\r\n",
    "\r\n",
    "for i in range(n_qubits):\r\n",
    "    qc.h(i)\r\n",
    "\r\n",
    "qc.measure(range(n_qubits), range(n_qubits))\r\n",
    "\r\n",
    "qobj = assemble(qc)\r\n",
    "\r\n",
    "qc.draw(output='mpl')"
   ]
  },
  {
   "cell_type": "markdown",
   "metadata": {},
   "source": [
    "#### run on simulator"
   ]
  },
  {
   "cell_type": "code",
   "execution_count": 32,
   "metadata": {},
   "outputs": [
    {
     "name": "stdout",
     "output_type": "stream",
     "text": [
      "statevector -> 11111\n"
     ]
    }
   ],
   "source": [
    "simulator = Aer.get_backend('qasm_simulator')\r\n",
    "\r\n",
    "result = execute(qc, simulator, shots=1, memory=True).result()\r\n",
    "state = result.get_memory(qc)[0]\r\n",
    "\r\n",
    "print('statevector ->', state)"
   ]
  },
  {
   "cell_type": "markdown",
   "metadata": {},
   "source": [
    "#### show number produced."
   ]
  },
  {
   "cell_type": "code",
   "execution_count": 33,
   "metadata": {},
   "outputs": [
    {
     "name": "stdout",
     "output_type": "stream",
     "text": [
      "0.96875\n"
     ]
    }
   ],
   "source": [
    "def convert(state):\r\n",
    "\r\n",
    "    decimal, exponent  = (0, 1)\r\n",
    "\r\n",
    "    for bit in state:\r\n",
    "        decimal += int(bit) * (1/2) ** exponent\r\n",
    "        exponent += 1\r\n",
    "    \r\n",
    "    return decimal\r\n",
    "\r\n",
    "print(convert(state))\r\n"
   ]
  }
 ],
 "metadata": {
  "interpreter": {
   "hash": "b3484043eee5ff5607422914000474778a896e23428dfc35313a8be46de07a70"
  },
  "kernelspec": {
   "display_name": "Python 3.8.8 64-bit ('base': conda)",
   "name": "python3"
  },
  "language_info": {
   "codemirror_mode": {
    "name": "ipython",
    "version": 3
   },
   "file_extension": ".py",
   "mimetype": "text/x-python",
   "name": "python",
   "nbconvert_exporter": "python",
   "pygments_lexer": "ipython3",
   "version": "3.8.8"
  },
  "orig_nbformat": 2
 },
 "nbformat": 4,
 "nbformat_minor": 2
}